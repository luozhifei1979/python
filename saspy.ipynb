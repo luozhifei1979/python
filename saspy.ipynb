{
 "cells": [
  {
   "cell_type": "code",
   "execution_count": 1,
   "metadata": {},
   "outputs": [],
   "source": [
    "import saspy"
   ]
  },
  {
   "cell_type": "code",
   "execution_count": 2,
   "metadata": {},
   "outputs": [
    {
     "name": "stdout",
     "output_type": "stream",
     "text": [
      "SAS Connection established. Subprocess id is 22908\n",
      "\n"
     ]
    }
   ],
   "source": [
    "sas = saspy.SASsession(cfgname='ssh',results='text')"
   ]
  },
  {
   "cell_type": "code",
   "execution_count": 3,
   "metadata": {},
   "outputs": [],
   "source": [
    "heart=sas.sasdata('heart',libref='sashelp')"
   ]
  },
  {
   "cell_type": "code",
   "execution_count": 4,
   "metadata": {
    "scrolled": false
   },
   "outputs": [
    {
     "name": "stdout",
     "output_type": "stream",
     "text": [
      "\n",
      "\n",
      "                                                           The SAS System                    Thursday, July  7, 2022 10:26:00 AM   2\n",
      "\n",
      "                                                                                                                        S\n",
      "                                                                                                          W             m\n",
      "                                                                                                          e             o\n",
      "                                                                                C      C                  i             k\n",
      "                          D             A         A                          A  h      h                  g             i\n",
      "                          e             g         g            D             g  o      o         B        h             n\n",
      "                          a             e         e            i  S          e  l      l         P        t             g\n",
      "                          t             C         A            a  y       S  A  e      _         _        _             _\n",
      "          S               h             H         t   H    W   s  s       m  t  s      S         S        S             S\n",
      "          t               C             D         S   e    e   t  t       o  D  t      t         t        t             t\n",
      "          a               a             d         t   i    i   o  o       k  e  e      a         a        a             a\n",
      "     O    t               u             i   S     a   g    g   l  l   M   i  a  r      t         t        t             t\n",
      "     b    u               s             a   e     r   h    h   i  i   R   n  t  o      u         u        u             u\n",
      "     s    s               e             g   x     t   t    t   c  c   W   g  h  l      s         s        s             s\n",
      "\n",
      "      1 Dead  Other                     . Female 29 62.50 140 78 124 121  0 55   .            Normal  Overweight Non-smoker     \n",
      "      2 Dead  Cancer                    . Female 41 59.75 194 92 144 183  0 57 181 Desirable  High    Overweight Non-smoker     \n",
      "      3 Alive                           . Female 57 62.25 132 90 170 114 10  . 250 High       High    Overweight Moderate (6-15)\n",
      "      4 Alive                           . Female 39 65.75 158 80 128 123  0  . 242 High       Normal  Overweight Non-smoker     \n",
      "      5 Alive                           . Male   42 66.00 156 76 110 116 20  . 281 High       Optimal Overweight Heavy (16-25)  \n",
      "      6 Alive                           . Female 58 61.75 131 92 176 117  0  . 196 Desirable  High    Overweight Non-smoker     \n",
      "      7 Alive                           . Female 36 64.75 136 80 112 110 15  . 196 Desirable  Normal  Overweight Moderate (6-15)\n",
      "      8 Dead  Other                     . Male   53 65.50 130 80 114  99  0 77 276 High       Normal  Normal     Non-smoker     \n",
      "      9 Alive                           . Male   35 71.00 194 68 132 124  0  . 211 Borderline Normal  Overweight Non-smoker     \n",
      "     10 Dead  Cerebral Vascular Disease . Male   52 62.50 129 78 124 106  5 82 284 High       Normal  Normal     Light (1-5)    \n"
     ]
    }
   ],
   "source": [
    "heart.head(10)"
   ]
  },
  {
   "cell_type": "code",
   "execution_count": 5,
   "metadata": {},
   "outputs": [
    {
     "data": {
      "text/plain": [
       "saspy.sasdata.SASdata"
      ]
     },
     "execution_count": 5,
     "metadata": {},
     "output_type": "execute_result"
    }
   ],
   "source": [
    "type(heart)"
   ]
  },
  {
   "cell_type": "code",
   "execution_count": 6,
   "metadata": {},
   "outputs": [],
   "source": [
    "sascode=\"\"\"\n",
    "/* 建立AE逻辑库 */\n",
    "LIBNAME AE '/data/AE/';\n",
    "\n",
    "/* 导入不良事件数据集 */\n",
    "PROC IMPORT DATAFILE='/data/AE/Adverse Event.xlsx'\n",
    "\tDBMS=XLSX\n",
    "\tOUT=AE.'Adverse Event'n;\n",
    "\tGETNAMES=YES;\n",
    "\tSHEET=\"Adverse Event\";\n",
    "RUN;\n",
    "\n",
    "/* 使用GPLOT做散点子图分析 */\n",
    "AXIS1 ORDER=(0 TO 800 BY 200) MINOR=NONE\n",
    "      LABEL=(\"medication days\");\n",
    "AXIS2 ORDER=(0 TO 400 BY 100) MINOR=NONE\n",
    "      LABEL=(A=90 \"adverse duration\");\n",
    "proc sort data=AE.'Adverse Event'n ;\n",
    "by sex;\n",
    "run;\n",
    "PROC GPLOT DATA=AE.'Adverse Event'n  GOUT=grapht;\n",
    "  BY sex;\n",
    "  TITLE1 \"Adverse Event for #BYVAL(sex)\";\n",
    "  PLOT adverse_duration * medication_days / HAXIS=AXIS1 VAXIS=AXIS2;\n",
    "RUN;\n",
    "QUIT;\n",
    "\n",
    "\"\"\""
   ]
  },
  {
   "cell_type": "code",
   "execution_count": 7,
   "metadata": {
    "scrolled": false
   },
   "outputs": [
    {
     "name": "stderr",
     "output_type": "stream",
     "text": [
      "C:\\ProgramData\\Anaconda3\\lib\\site-packages\\saspy\\sasiostdio.py:1038: UserWarning: Noticed 'ERROR:' in LOG, you ought to take a look and see if there was a problem\n",
      "  warnings.warn(\"Noticed 'ERROR:' in LOG, you ought to take a look and see if there was a problem\")\n"
     ]
    },
    {
     "data": {
      "text/html": [
       "<pre>\n",
       "45   ods listing close;ods html5 (id=saspy_internal) file=stdout options(bitmap_mode='inline') device=svg style=HTMLBlue; ods\n",
       "45 ! graphics on / outputfmt=png;\n",
       "NOTE: Writing HTML5(SASPY_INTERNAL) Body file: STDOUT\n",
       "46   \n",
       "47   \n",
       "48   /* 建立AE逻辑库 */\n",
       "49   LIBNAME AE '/data/AE/';\n",
       "NOTE: Library AE does not exist.\n",
       "50   \n",
       "51   /* 导入不良事件数据集 */\n",
       "52   PROC IMPORT DATAFILE='/data/AE/Adverse Event.xlsx'\n",
       "53   \tDBMS=XLSX\n",
       "54   \tOUT=AE.'Adverse Event'n;\n",
       "55   \tGETNAMES=YES;\n",
       "56   \tSHEET=\"Adverse Event\";\n",
       "57   RUN;\n",
       "ERROR: Physical file does not exist, /data/AE//Adverse Event.\n",
       "NOTE: The SAS System stopped processing this step because of errors.\n",
       "NOTE: PROCEDURE IMPORT used (Total process time):\n",
       "      real time           0.00 seconds\n",
       "      user cpu time       0.01 seconds\n",
       "      system cpu time     0.00 seconds\n",
       "      memory              5166.09k\n",
       "      OS Memory           19152.00k\n",
       "      Timestamp           07/07/2022 10:26:12 AM\n",
       "      Step Count                        8  Switch Count  0\n",
       "      Page Faults                       5\n",
       "      Page Reclaims                     327\n",
       "      Page Swaps                        0\n",
       "      Voluntary Context Switches        5\n",
       "      Involuntary Context Switches      0\n",
       "      Block Input Operations            600\n",
       "      Block Output Operations           0\n",
       "      \n",
       "58   \n",
       "59   /* 使用GPLOT做散点子图分析 */\n",
       "60   AXIS1 ORDER=(0 TO 800 BY 200) MINOR=NONE\n",
       "61         LABEL=(\"medication days\");\n",
       "62   AXIS2 ORDER=(0 TO 400 BY 100) MINOR=NONE\n",
       "63         LABEL=(A=90 \"adverse duration\");\n",
       "64   proc sort data=AE.'Adverse Event'n ;\n",
       "ERROR: File AE.'ADVERSE EVENT'.DATA does not exist.\n",
       "65   by sex;\n",
       "66   run;\n",
       "NOTE: The SAS System stopped processing this step because of errors.\n",
       "NOTE: PROCEDURE SORT used (Total process time):\n",
       "      real time           0.00 seconds\n",
       "      user cpu time       0.00 seconds\n",
       "      system cpu time     0.00 seconds\n",
       "      memory              23.71k\n",
       "      OS Memory           14108.00k\n",
       "      Timestamp           07/07/2022 10:26:12 AM\n",
       "      Step Count                        9  Switch Count  0\n",
       "      Page Faults                       3\n",
       "      Page Reclaims                     18\n",
       "      Page Swaps                        0\n",
       "      Voluntary Context Switches        4\n",
       "      Involuntary Context Switches      0\n",
       "      Block Input Operations            288\n",
       "      Block Output Operations           0\n",
       "      \n",
       "67   PROC GPLOT DATA=AE.'Adverse Event'n  GOUT=grapht;\n",
       "ERROR: File AE.'ADVERSE EVENT'.DATA does not exist.\n",
       "68     BY sex;\n",
       "69     TITLE1 \"Adverse Event for #BYVAL(sex)\";\n",
       "ERROR: No data set open to look up variables.\n",
       "ERROR: No data set open to look up variables.\n",
       "NOTE: The previous statement has been deleted.\n",
       "70     PLOT adverse_duration * medication_days / HAXIS=AXIS1 VAXIS=AXIS2;\n",
       "71   RUN;\n",
       "72   QUIT;\n",
       "NOTE: The SAS System stopped processing this step because of errors.\n",
       "NOTE: PROCEDURE GPLOT used (Total process time):\n",
       "      real time           0.00 seconds\n",
       "      user cpu time       0.00 seconds\n",
       "      system cpu time     0.00 seconds\n",
       "      memory              27.93k\n",
       "      OS Memory           14108.00k\n",
       "      Timestamp           07/07/2022 10:26:12 AM\n",
       "      Step Count                        10  Switch Count  0\n",
       "      Page Faults                       0\n",
       "      Page Reclaims                     14\n",
       "      Page Swaps                        0\n",
       "      Voluntary Context Switches        0\n",
       "      Involuntary Context Switches      0\n",
       "      Block Input Operations            0\n",
       "      Block Output Operations           0\n",
       "      \n",
       "73   \n",
       "74   \n",
       "75   \n",
       "76   ods html5 (id=saspy_internal) close;ods listing;\n",
       "\n",
       "77   proc printto;run;\n",
       "NOTE: PROCEDURE PRINTTO used (Total process time):\n",
       "      real time           0.00 seconds\n",
       "      user cpu time       0.00 seconds\n",
       "      system cpu time     0.00 seconds\n",
       "      memory              5.03k\n",
       "      OS Memory           12056.00k\n",
       "      Timestamp           07/07/2022 10:26:12 AM\n",
       "      Step Count                        11  Switch Count  0\n",
       "      Page Faults                       0\n",
       "      Page Reclaims                     5\n",
       "      Page Swaps                        0\n",
       "      Voluntary Context Switches        0\n",
       "      Involuntary Context Switches      0\n",
       "      Block Input Operations            0\n",
       "      Block Output Operations           0\n",
       "      </pre>"
      ],
      "text/plain": [
       "<IPython.core.display.HTML object>"
      ]
     },
     "metadata": {},
     "output_type": "display_data"
    }
   ],
   "source": [
    "sas.submitLST(sascode,results='HTML',method='listorlog',printto=True)"
   ]
  },
  {
   "cell_type": "code",
   "execution_count": null,
   "metadata": {},
   "outputs": [],
   "source": []
  }
 ],
 "metadata": {
  "kernelspec": {
   "display_name": "Python 3",
   "language": "python",
   "name": "python3"
  },
  "language_info": {
   "codemirror_mode": {
    "name": "ipython",
    "version": 3
   },
   "file_extension": ".py",
   "mimetype": "text/x-python",
   "name": "python",
   "nbconvert_exporter": "python",
   "pygments_lexer": "ipython3",
   "version": "3.6.5"
  },
  "toc": {
   "base_numbering": 1,
   "nav_menu": {},
   "number_sections": true,
   "sideBar": true,
   "skip_h1_title": false,
   "title_cell": "Table of Contents",
   "title_sidebar": "Contents",
   "toc_cell": false,
   "toc_position": {},
   "toc_section_display": true,
   "toc_window_display": false
  }
 },
 "nbformat": 4,
 "nbformat_minor": 2
}
